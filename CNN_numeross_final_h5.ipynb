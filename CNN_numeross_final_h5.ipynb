{
  "nbformat": 4,
  "nbformat_minor": 0,
  "metadata": {
    "colab": {
      "provenance": [],
      "gpuType": "T4",
      "mount_file_id": "1jhdJnte55opJJAuz-2u8Gn2W0558bCj4",
      "authorship_tag": "ABX9TyOO7IGf7wZSht34vBstYygZ",
      "include_colab_link": true
    },
    "kernelspec": {
      "name": "python3",
      "display_name": "Python 3"
    },
    "language_info": {
      "name": "python"
    },
    "accelerator": "GPU",
    "gpuClass": "standard"
  },
  "cells": [
    {
      "cell_type": "markdown",
      "metadata": {
        "id": "view-in-github",
        "colab_type": "text"
      },
      "source": [
        "<a href=\"https://colab.research.google.com/github/NicolasAmUs/CNN-Mnist_perceptron/blob/main/CNN_numeross_final_h5.ipynb\" target=\"_parent\"><img src=\"https://colab.research.google.com/assets/colab-badge.svg\" alt=\"Open In Colab\"/></a>"
      ]
    },
    {
      "cell_type": "code",
      "execution_count": null,
      "metadata": {
        "id": "GK4YW5Ei6AEP"
      },
      "outputs": [],
      "source": [
        "import tensorflow as tf\n",
        "from collections import deque\n",
        "import numpy as np\n",
        "import tensorflow.keras\n",
        "from keras.datasets import mnist\n",
        "from keras.models import Sequential\n",
        "from keras.layers import Dense, Flatten\n",
        "from keras import backend as K\n",
        "from keras.models import load_model\n",
        "import matplotlib.pyplot as plt\n"
      ]
    },
    {
      "cell_type": "code",
      "source": [
        "#definir parametros para entrenamiento de la red neuronal\n",
        "\n",
        "batch_size = 100\n",
        "num_clases = 10\n",
        "epochs = 7\n",
        "filas,columnas = 28,28\n",
        "class_names = ['cero','uno','dos','tres','cuatro','cinco','seis','siete','ocho','nueve']\n"
      ],
      "metadata": {
        "id": "XAsHlhgG6IwW"
      },
      "execution_count": null,
      "outputs": []
    },
    {
      "cell_type": "code",
      "source": [
        "#entrenamiento tomando como base de datos MNIST\n",
        "(xt,yt),(xtest,ytest) = mnist.load_data()\n",
        "\n",
        "#redmensionar el vector a 28x28\n",
        "xt = xt.reshape(xt.shape[0], filas, columnas)\n",
        "xtest = xtest.reshape(xtest.shape[0],filas,columnas)\n",
        "input_shape = (28, 28, 1)\n",
        "\n",
        "\n",
        "xt =xt.astype('float32')\n",
        "xtest = xtest.astype('float32')\n",
        "\n",
        "xt = xt/255\n",
        "xtest = xtest/255\n",
        "\n",
        "yt = tensorflow.keras.utils.to_categorical(yt, num_clases)\n",
        "ytest = tensorflow.keras.utils.to_categorical(ytest, num_clases)"
      ],
      "metadata": {
        "id": "SFa0KOKL7YH4",
        "colab": {
          "base_uri": "https://localhost:8080/"
        },
        "outputId": "39ac9d4d-2010-4270-b2b6-2ba2cc9809d8"
      },
      "execution_count": null,
      "outputs": [
        {
          "output_type": "stream",
          "name": "stdout",
          "text": [
            "Downloading data from https://storage.googleapis.com/tensorflow/tf-keras-datasets/mnist.npz\n",
            "11490434/11490434 [==============================] - 0s 0us/step\n"
          ]
        }
      ]
    },
    {
      "cell_type": "code",
      "source": [
        "#Definimos la red neuronal  - perceptron multicapa\n",
        "modelo = Sequential()\n",
        "modelo.add(Flatten(input_shape=(28,28,1)))\n",
        "modelo.add(Dense(68,activation='relu'))\n",
        "modelo.add(Dense(20,activation ='relu'))\n",
        "modelo.add(Dense(num_clases, activation='Softmax'))\n",
        "modelo.summary()"
      ],
      "metadata": {
        "colab": {
          "base_uri": "https://localhost:8080/"
        },
        "id": "lpQJMBPI6K2F",
        "outputId": "f46bacf7-d131-42ef-f50c-47f3eb9d103f"
      },
      "execution_count": null,
      "outputs": [
        {
          "output_type": "stream",
          "name": "stdout",
          "text": [
            "Model: \"sequential\"\n",
            "_________________________________________________________________\n",
            " Layer (type)                Output Shape              Param #   \n",
            "=================================================================\n",
            " flatten (Flatten)           (None, 784)               0         \n",
            "                                                                 \n",
            " dense (Dense)               (None, 68)                53380     \n",
            "                                                                 \n",
            " dense_1 (Dense)             (None, 20)                1380      \n",
            "                                                                 \n",
            " dense_2 (Dense)             (None, 10)                210       \n",
            "                                                                 \n",
            "=================================================================\n",
            "Total params: 54,970\n",
            "Trainable params: 54,970\n",
            "Non-trainable params: 0\n",
            "_________________________________________________________________\n"
          ]
        }
      ]
    },
    {
      "cell_type": "code",
      "source": [
        "#compilar el modelo con las capas anteriomente especificadas\n",
        "modelo.compile(loss=tensorflow.keras.losses.categorical_crossentropy, optimizer=tensorflow.keras.optimizers.Adam(), metrics=['categorical_accuracy'])"
      ],
      "metadata": {
        "id": "bsU2mTbL6hp1"
      },
      "execution_count": null,
      "outputs": []
    },
    {
      "cell_type": "markdown",
      "source": [],
      "metadata": {
        "id": "QRf_Qs1-AITV"
      }
    },
    {
      "cell_type": "code",
      "source": [
        "#verificacion epoca a epoca de la precision y error del entrenamiento.\n",
        "history=modelo.fit(xt,yt,batch_size=batch_size, epochs=epochs, verbose=1, validation_data=(xtest,ytest))"
      ],
      "metadata": {
        "colab": {
          "base_uri": "https://localhost:8080/"
        },
        "id": "91WNz-TO7vuh",
        "outputId": "ab8550a8-193e-4f9e-d530-2f7a0fc4275d"
      },
      "execution_count": null,
      "outputs": [
        {
          "output_type": "stream",
          "name": "stdout",
          "text": [
            "Epoch 1/7\n",
            "600/600 [==============================] - 8s 4ms/step - loss: 0.3819 - categorical_accuracy: 0.8920 - val_loss: 0.1926 - val_categorical_accuracy: 0.9443\n",
            "Epoch 2/7\n",
            "600/600 [==============================] - 3s 5ms/step - loss: 0.1707 - categorical_accuracy: 0.9501 - val_loss: 0.1456 - val_categorical_accuracy: 0.9571\n",
            "Epoch 3/7\n",
            "600/600 [==============================] - 2s 3ms/step - loss: 0.1282 - categorical_accuracy: 0.9618 - val_loss: 0.1200 - val_categorical_accuracy: 0.9634\n",
            "Epoch 4/7\n",
            "600/600 [==============================] - 2s 3ms/step - loss: 0.1027 - categorical_accuracy: 0.9698 - val_loss: 0.1069 - val_categorical_accuracy: 0.9687\n",
            "Epoch 5/7\n",
            "600/600 [==============================] - 2s 3ms/step - loss: 0.0846 - categorical_accuracy: 0.9754 - val_loss: 0.0977 - val_categorical_accuracy: 0.9704\n",
            "Epoch 6/7\n",
            "600/600 [==============================] - 2s 3ms/step - loss: 0.0727 - categorical_accuracy: 0.9780 - val_loss: 0.0940 - val_categorical_accuracy: 0.9717\n",
            "Epoch 7/7\n",
            "600/600 [==============================] - 2s 3ms/step - loss: 0.0627 - categorical_accuracy: 0.9815 - val_loss: 0.0875 - val_categorical_accuracy: 0.9733\n"
          ]
        }
      ]
    },
    {
      "cell_type": "code",
      "source": [
        "#metrica de precision y perdida \n",
        "[test_loss, test_acc] = modelo.evaluate(xtest, ytest)\n",
        "print(\"Evaluation result on Test Data : Loss = {}, accuracy = {}\".format(test_loss, test_acc))\n"
      ],
      "metadata": {
        "colab": {
          "base_uri": "https://localhost:8080/"
        },
        "id": "HpSsfV4V7xQX",
        "outputId": "433331b1-ee5c-4a24-b00b-9a0679c96f2b"
      },
      "execution_count": null,
      "outputs": [
        {
          "output_type": "stream",
          "name": "stdout",
          "text": [
            "313/313 [==============================] - 1s 2ms/step - loss: 0.0972 - categorical_accuracy: 0.9702\n",
            "Evaluation result on Test Data : Loss = 0.0972251445055008, accuracy = 0.9702000021934509\n"
          ]
        }
      ]
    },
    {
      "cell_type": "code",
      "source": [
        "#verificar las metricas que son validas para graficar \n",
        "history.history.keys() "
      ],
      "metadata": {
        "colab": {
          "base_uri": "https://localhost:8080/"
        },
        "id": "LyDC6MEbBHEQ",
        "outputId": "a8ac0c9d-bb21-4f78-abed-ee7c1e7bd35e"
      },
      "execution_count": null,
      "outputs": [
        {
          "output_type": "execute_result",
          "data": {
            "text/plain": [
              "dict_keys(['loss', 'categorical_accuracy', 'val_loss', 'val_categorical_accuracy'])"
            ]
          },
          "metadata": {},
          "execution_count": 9
        }
      ]
    },
    {
      "cell_type": "code",
      "source": [
        "\n",
        "#graficar graficas de precision categorica, validacion\n",
        "plt.figure(figsize=[8,6]) \n",
        "plt.plot(history.history['categorical_accuracy'],'r',linewidth=3.0) \n",
        "plt.plot(history.history['val_categorical_accuracy'],'b',linewidth=3.0) \n",
        "plt.legend(['Training Accuracy', 'Validation Accuracy'],fontsize=18) \n",
        "plt.xlabel('Epochs ',fontsize=16) \n",
        "plt.ylabel('Accuracy',fontsize=16) \n",
        "plt.title('Accuracy Curves',fontsize=16)"
      ],
      "metadata": {
        "colab": {
          "base_uri": "https://localhost:8080/",
          "height": 589
        },
        "id": "r3yI5f6rASV6",
        "outputId": "4a7787e0-74a4-4f72-9891-0c9002c8096c"
      },
      "execution_count": null,
      "outputs": [
        {
          "output_type": "execute_result",
          "data": {
            "text/plain": [
              "Text(0.5, 1.0, 'Accuracy Curves')"
            ]
          },
          "metadata": {},
          "execution_count": 10
        },
        {
          "output_type": "display_data",
          "data": {
            "text/plain": [
              "<Figure size 800x600 with 1 Axes>"
            ],
            "image/png": "[encoded data removed]"
          },
          "metadata": {}
        }
      ]
    },
    {
      "cell_type": "code",
      "source": [
        "predict_x=modelo.predict(xtest) \n",
        "classes_x=np.argmax(predict_x,axis=1)\n",
        " \n",
        "# graficar la imagen con su respectiva prediccion\n",
        "plt.imshow(xtest[1], cmap='gray')\n",
        "plt.title(\"Ground Truth : {}\".format(np.argmax(ytest[1])))"
      ],
      "metadata": {
        "colab": {
          "base_uri": "https://localhost:8080/",
          "height": 487
        },
        "id": "aldElyiV_OtD",
        "outputId": "b5a89fb3-af6e-45b1-8846-adec0ff1454c"
      },
      "execution_count": null,
      "outputs": [
        {
          "output_type": "stream",
          "name": "stdout",
          "text": [
            "313/313 [==============================] - 1s 2ms/step\n"
          ]
        },
        {
          "output_type": "execute_result",
          "data": {
            "text/plain": [
              "Text(0.5, 1.0, 'Ground Truth : 2')"
            ]
          },
          "metadata": {},
          "execution_count": 11
        },
        {
          "output_type": "display_data",
          "data": {
            "text/plain": [
              "<Figure size 640x480 with 1 Axes>"
            ],
            "image/png": "[encoded data removed]"
          },
          "metadata": {}
        }
      ]
    },
    {
      "cell_type": "code",
      "source": [
        "# verificar los pesos obtenidos para un numero de prueba \n",
        "modelo.predict(xtest[[0],:])"
      ],
      "metadata": {
        "colab": {
          "base_uri": "https://localhost:8080/"
        },
        "id": "hL5EhDvMCQ9f",
        "outputId": "6409f50e-4076-496f-cae5-09fb06eecb5d"
      },
      "execution_count": null,
      "outputs": [
        {
          "output_type": "stream",
          "name": "stdout",
          "text": [
            "1/1 [==============================] - 0s 25ms/step\n"
          ]
        },
        {
          "output_type": "execute_result",
          "data": {
            "text/plain": [
              "array([[3.0892741e-07, 9.9255794e-07, 3.3067632e-04, 2.4964998e-04,\n",
              "        2.1462971e-09, 1.8346308e-06, 2.1735028e-13, 9.9936551e-01,\n",
              "        5.2486814e-07, 5.0542552e-05]], dtype=float32)"
            ]
          },
          "metadata": {},
          "execution_count": 12
        }
      ]
    },
    {
      "cell_type": "code",
      "source": [
        "#guardar el modelo como h5, para integracion con otro sistema\n",
        "modelo.save('CNN_numeros.h5')"
      ],
      "metadata": {
        "id": "YHPnOT0Y-H-F"
      },
      "execution_count": null,
      "outputs": []
    }
  ]
}